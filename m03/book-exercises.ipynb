{
 "cells": [
  {
   "cell_type": "code",
   "execution_count": 6,
   "metadata": {},
   "outputs": [
    {
     "name": "stdout",
     "output_type": "stream",
     "text": [
      "['mozzarella', 'Cinderella', 'salmonella']\n",
      "['MOZZARELLA', 'Cinderella', 'salmonella']\n",
      "You deleted the salmonella! Here's your Nobel Prize.\n",
      "\n",
      "      .---.\n",
      "    .'     '.\n",
      "   /  .---.  \\\n",
      "  /  / _   \\  \\\n",
      " /  / (o)   \\  \\\n",
      "|  |      |  |  |\n",
      "|  |   A  |  |  |\n",
      " \\  \\     /  /\n",
      "  \\  '---'  /\n",
      "   '.     .'\n",
      "     '---'\n",
      "   NOBEL PRIZE\n",
      "\n",
      "['MOZZARELLA', 'Cinderella']\n"
     ]
    }
   ],
   "source": [
    "## 7.4\n",
    "things: [str] = [\"mozzarella\", \"cinderella\", \"salmonella\"]\n",
    "\n",
    "## 7.5\n",
    "things[1] = things[1].capitalize()\n",
    "print(things)\n",
    "\n",
    "\n",
    "## 7.6\n",
    "things[0] = things[0].upper()\n",
    "print(things)\n",
    "\n",
    "## 7.7\n",
    "del things[2]\n",
    "print(\"You deleted the salmonella! Here's your Nobel Prize.\")\n",
    "print(\"\"\"\n",
    "      .---.\n",
    "    .'     '.\n",
    "   /  .---.  \\\\\n",
    "  /  / _   \\  \\\\\n",
    " /  / (o)   \\  \\\\\n",
    "|  |      |  |  |\n",
    "|  |   A  |  |  |\n",
    " \\  \\     /  /\n",
    "  \\  '---'  /\n",
    "   '.     .'\n",
    "     '---'\n",
    "   NOBEL PRIZE\n",
    "\"\"\")\n",
    "\n",
    "print(things)\n",
    "\n",
    "\n"
   ]
  },
  {
   "cell_type": "code",
   "execution_count": 8,
   "metadata": {},
   "outputs": [
    {
     "name": "stdout",
     "output_type": "stream",
     "text": [
      "['Harry', 'Ron', 'Hermione']\n"
     ]
    }
   ],
   "source": [
    "## 9.1\n",
    "def good():\n",
    "    return ['Harry', 'Ron', 'Hermione']\n",
    "\n",
    "print(good())\n"
   ]
  },
  {
   "cell_type": "code",
   "execution_count": 11,
   "metadata": {},
   "outputs": [
    {
     "name": "stdout",
     "output_type": "stream",
     "text": [
      "[1, 3, 5, 7, 9]\n",
      "5\n"
     ]
    }
   ],
   "source": [
    "## 9.2\n",
    "def get_odds():\n",
    "    return [number for number in range(1, 10, 2)]\n",
    "\n",
    "def get_third_odd(odds):\n",
    "    return odds[2]\n",
    "\n",
    "print(get_odds())\n",
    "print(get_third_odd(get_odds()))\n"
   ]
  }
 ],
 "metadata": {
  "kernelspec": {
   "display_name": "base",
   "language": "python",
   "name": "python3"
  },
  "language_info": {
   "codemirror_mode": {
    "name": "ipython",
    "version": 3
   },
   "file_extension": ".py",
   "mimetype": "text/x-python",
   "name": "python",
   "nbconvert_exporter": "python",
   "pygments_lexer": "ipython3",
   "version": "3.11.7"
  }
 },
 "nbformat": 4,
 "nbformat_minor": 2
}
